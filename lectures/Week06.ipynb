{
 "cells": [
  {
   "cell_type": "markdown",
   "metadata": {},
   "source": [
    "# Supervised Learning - Part II (Chapter 5)\n",
    "\n",
    "This module focuses on a particular class of supervised machine learning: classification, where we have a finite number of choices to label an observation. \n",
    "\n",
    "Topics for this module:\n",
    "* Cross-Validation\n",
    "* Learning Curves\n",
    "* Support Vector Machines\n",
    "* Random Forest"
   ]
  },
  {
   "cell_type": "code",
   "execution_count": 1,
   "metadata": {},
   "outputs": [],
   "source": [
    "import numpy as np\n",
    "import matplotlib.pylab as plt"
   ]
  },
  {
   "cell_type": "markdown",
   "metadata": {},
   "source": [
    "We ended the last workbook by comparing various classification methods built into the Scikit-Learn toolbox, using the iris dataset.   Lets reproduce those plots using the wine dataset."
   ]
  },
  {
   "cell_type": "code",
   "execution_count": 2,
   "metadata": {},
   "outputs": [],
   "source": [
    "from sklearn import datasets # import standard datasets\n",
    "wine = datasets.load_wine() # load wine data set"
   ]
  },
  {
   "cell_type": "markdown",
   "metadata": {},
   "source": [
    "as well as the KNN classifier, decision tree, and support vector classification"
   ]
  },
  {
   "cell_type": "code",
   "execution_count": 3,
   "metadata": {},
   "outputs": [],
   "source": [
    "from sklearn import neighbors\n",
    "from sklearn import tree\n",
    "from sklearn import svm"
   ]
  },
  {
   "cell_type": "markdown",
   "metadata": {},
   "source": [
    "We generated boxplots of accuracy by splitting, fitting and predicting training/test data respectively.  "
   ]
  },
  {
   "cell_type": "code",
   "execution_count": 4,
   "metadata": {},
   "outputs": [],
   "source": [
    "from sklearn.model_selection import train_test_split\n",
    "from sklearn.metrics import accuracy_score"
   ]
  },
  {
   "cell_type": "code",
   "execution_count": 32,
   "metadata": {},
   "outputs": [
    {
     "data": {
      "image/png": "[encoded data removed]",
      "text/plain": [
       "<Figure size 432x288 with 1 Axes>"
      ]
     },
     "metadata": {
      "needs_background": "light"
     },
     "output_type": "display_data"
    }
   ],
   "source": [
    "nn1 = neighbors.KNeighborsClassifier(n_neighbors = 1)\n",
    "nn3 = neighbors.KNeighborsClassifier(n_neighbors = 3)\n",
    "nn5 = neighbors.KNeighborsClassifier(n_neighbors = 5)\n",
    "svc = svm.SVC()\n",
    "dt = tree.DecisionTreeClassifier()\n",
    "\n",
    "acc = np.zeros((20,5))\n",
    "\n",
    "for i in xrange(20):\n",
    "    # split the data\n",
    "    x_train, x_test, y_train, y_test = train_test_split(wine.data, wine.target, test_size=0.4)\n",
    "\n",
    "    # train the classifier using the training data\n",
    "    nn1.fit(x_train, y_train)\n",
    "    nn3.fit(x_train, y_train)\n",
    "    nn5.fit(x_train, y_train)\n",
    "    svc.fit(x_train, y_train)\n",
    "    dt.fit(x_train, y_train)\n",
    "\n",
    "    # compute the prediction of the test set using the model\n",
    "    yhat_nn1 = nn1.predict(x_test)\n",
    "    yhat_nn3 = nn3.predict(x_test)\n",
    "    yhat_nn5 = nn5.predict(x_test)\n",
    "    yhat_svc = svc.predict(x_test)\n",
    "    yhat_dt = dt.predict(x_test)\n",
    "\n",
    "    acc[i][0] = accuracy_score(yhat_nn1,y_test)\n",
    "    acc[i][1] = accuracy_score(yhat_nn3,y_test)\n",
    "    acc[i][2] = accuracy_score(yhat_nn5,y_test)\n",
    "    acc[i][3] = accuracy_score(yhat_svc,y_test)\n",
    "    acc[i][4] = accuracy_score(yhat_dt,y_test)\n",
    "    \n",
    "    \n",
    "# generate box plot\n",
    "plt.boxplot(acc);\n",
    "for i in xrange(5):\n",
    "    # add jigger to plot data\n",
    "    xderiv = (i+1)*np.ones(acc[:,i].shape)+(np.random.rand(20,)-0.5)*0.1\n",
    "    plt.plot(xderiv,acc[:,i],'bo',alpha=0.3)\n",
    "    \n",
    "ax = plt.gca()\n",
    "ax.set_xticklabels(['1-NN','3-NN','5-NN','SVM','Decission Tree'])\n",
    "_ = plt.ylabel('Accuracy')\n"
   ]
  },
  {
   "cell_type": "markdown",
   "metadata": {},
   "source": [
    "Decision Tree appears to perform the best, based on our simple cross-validation test.  Here, we ran several experiments where we randomly split the data set into a training and a test set, did the prediction, and fit.  This is known as repeated random sub-sampling validation (or Monte Carlo cross-validation).  There are other modes of cross validation:\n",
    "* *leave-one-out*:  Given $N$ samples, model is trained with $N-1$ samples and tested with the remaining one.  This is repeated $N$ times, once per training sample, and the result is averaged\n",
    "* *leave-p-out*:  Given $N$ samples, model is trained with $N-p$ samples and tested with the remaining $p$ samples.  This is repeated $N \\choose p$ times, and the result is averaged.  This approach is impractical for most choices of $n$ and $p$.\n",
    "* *k-fold cross-validation*: the data is split into $k$ non-overlapping splits.  Use $k-1$ splits for training, and the remaining split for testing.  Repeat $k$ times, leaving one split out each time, then average the results."
   ]
  },
  {
   "cell_type": "markdown",
   "metadata": {},
   "source": [
    "# Decision Trees\n",
    "\n",
    "Lets learn about decision trees (DT), before switching to errors associated with the learning task.  DTs are a popular method for various machine learning tasks because \n",
    "* they are invariant under scaling and various other transformation of feature values (i.e. normalization not needed)\n",
    "* one can include irrelevant features without affecting the final outcome\n",
    "* can handle both numerical and categorical data \n",
    "* the final outcome is easy to understand / interpret / visualized. \n",
    "\n",
    "DT have various downsides however:\n",
    "* prone to over-fitting (overly-complex trees)\n",
    "* unstable: small variations in data might result in a completely different generated tree\n",
    "* optimal decision trees are NP-complete; hence, most algorithms are based on heuristic (e.g. greedy) algorithms\n",
    "\n",
    "What does a tree look like?"
   ]
  },
  {
   "cell_type": "code",
   "execution_count": 38,
   "metadata": {},
   "outputs": [
    {
     "data": {
      "image/svg+xml": [
       "<?xml version=\"1.0\" encoding=\"UTF-8\" standalone=\"no\"?>\n",
       "<!DOCTYPE svg PUBLIC \"-//W3C//DTD SVG 1.1//EN\"\n",
       " \"http://www.w3.org/Graphics/SVG/1.1/DTD/svg11.dtd\">\n",
       "<!-- Generated by graphviz version 2.40.1 (20161225.0304)\n",
       " -->\n",
       "<!-- Title: Tree Pages: 1 -->\n",
       "<svg width=\"540pt\" height=\"314pt\"\n",
       " viewBox=\"0.00 0.00 540.00 314.00\" xmlns=\"http://www.w3.org/2000/svg\" xmlns:xlink=\"http://www.w3.org/1999/xlink\">\n",
       "<g id=\"graph0\" class=\"graph\" transform=\"scale(1 1) rotate(0) translate(4 310)\">\n",
       "<title>Tree</title>\n",
       "<polygon fill=\"#ffffff\" stroke=\"transparent\" points=\"-4,4 -4,-310 536,-310 536,4 -4,4\"/>\n",
       "<!-- 0 -->\n",
       "<g id=\"node1\" class=\"node\">\n",
       "<title>0</title>\n",
       "<path fill=\"#39e581\" fill-opacity=\"0.094118\" stroke=\"#000000\" d=\"M323,-306C323,-306 211,-306 211,-306 205,-306 199,-300 199,-294 199,-294 199,-235 199,-235 199,-229 205,-223 211,-223 211,-223 323,-223 323,-223 329,-223 335,-229 335,-235 335,-235 335,-294 335,-294 335,-300 329,-306 323,-306\"/>\n",
       "<text text-anchor=\"start\" x=\"220.5\" y=\"-290.8\" font-family=\"Helvetica,sans-Serif\" font-size=\"14.00\" fill=\"#000000\">proline ≤ 842.5</text>\n",
       "<text text-anchor=\"start\" x=\"230.5\" y=\"-275.8\" font-family=\"Helvetica,sans-Serif\" font-size=\"14.00\" fill=\"#000000\">gini = 0.662</text>\n",
       "<text text-anchor=\"start\" x=\"221\" y=\"-260.8\" font-family=\"Helvetica,sans-Serif\" font-size=\"14.00\" fill=\"#000000\">samples = 124</text>\n",
       "<text text-anchor=\"start\" x=\"207\" y=\"-245.8\" font-family=\"Helvetica,sans-Serif\" font-size=\"14.00\" fill=\"#000000\">value = [40, 48, 36]</text>\n",
       "<text text-anchor=\"start\" x=\"219\" y=\"-230.8\" font-family=\"Helvetica,sans-Serif\" font-size=\"14.00\" fill=\"#000000\">class = class_1</text>\n",
       "</g>\n",
       "<!-- 1 -->\n",
       "<g id=\"node2\" class=\"node\">\n",
       "<title>1</title>\n",
       "<path fill=\"#39e581\" fill-opacity=\"0.243137\" stroke=\"#000000\" d=\"M249,-187C249,-187 143,-187 143,-187 137,-187 131,-181 131,-175 131,-175 131,-116 131,-116 131,-110 137,-104 143,-104 143,-104 249,-104 249,-104 255,-104 261,-110 261,-116 261,-116 261,-175 261,-175 261,-181 255,-187 249,-187\"/>\n",
       "<text text-anchor=\"start\" x=\"139\" y=\"-171.8\" font-family=\"Helvetica,sans-Serif\" font-size=\"14.00\" fill=\"#000000\">flavanoids ≤ 1.235</text>\n",
       "<text text-anchor=\"start\" x=\"159.5\" y=\"-156.8\" font-family=\"Helvetica,sans-Serif\" font-size=\"14.00\" fill=\"#000000\">gini = 0.524</text>\n",
       "<text text-anchor=\"start\" x=\"154\" y=\"-141.8\" font-family=\"Helvetica,sans-Serif\" font-size=\"14.00\" fill=\"#000000\">samples = 83</text>\n",
       "<text text-anchor=\"start\" x=\"140\" y=\"-126.8\" font-family=\"Helvetica,sans-Serif\" font-size=\"14.00\" fill=\"#000000\">value = [3, 46, 34]</text>\n",
       "<text text-anchor=\"start\" x=\"148\" y=\"-111.8\" font-family=\"Helvetica,sans-Serif\" font-size=\"14.00\" fill=\"#000000\">class = class_1</text>\n",
       "</g>\n",
       "<!-- 0&#45;&gt;1 -->\n",
       "<g id=\"edge1\" class=\"edge\">\n",
       "<title>0&#45;&gt;1</title>\n",
       "<path fill=\"none\" stroke=\"#000000\" d=\"M242.1676,-222.8796C237.0091,-214.2335 231.5192,-205.0322 226.1924,-196.1042\"/>\n",
       "<polygon fill=\"#000000\" stroke=\"#000000\" points=\"229.0678,-194.0924 220.9383,-187.2981 223.0564,-197.679 229.0678,-194.0924\"/>\n",
       "<text text-anchor=\"middle\" x=\"214.8149\" y=\"-207.8366\" font-family=\"Helvetica,sans-Serif\" font-size=\"14.00\" fill=\"#000000\">True</text>\n",
       "</g>\n",
       "<!-- 4 -->\n",
       "<g id=\"node5\" class=\"node\">\n",
       "<title>4</title>\n",
       "<path fill=\"#e58139\" fill-opacity=\"0.898039\" stroke=\"#000000\" d=\"M387,-187C387,-187 291,-187 291,-187 285,-187 279,-181 279,-175 279,-175 279,-116 279,-116 279,-110 285,-104 291,-104 291,-104 387,-104 387,-104 393,-104 399,-110 399,-116 399,-116 399,-175 399,-175 399,-181 393,-187 387,-187\"/>\n",
       "<text text-anchor=\"start\" x=\"291.5\" y=\"-171.8\" font-family=\"Helvetica,sans-Serif\" font-size=\"14.00\" fill=\"#000000\">alcohol ≤ 12.66</text>\n",
       "<text text-anchor=\"start\" x=\"302.5\" y=\"-156.8\" font-family=\"Helvetica,sans-Serif\" font-size=\"14.00\" fill=\"#000000\">gini = 0.181</text>\n",
       "<text text-anchor=\"start\" x=\"297\" y=\"-141.8\" font-family=\"Helvetica,sans-Serif\" font-size=\"14.00\" fill=\"#000000\">samples = 41</text>\n",
       "<text text-anchor=\"start\" x=\"287\" y=\"-126.8\" font-family=\"Helvetica,sans-Serif\" font-size=\"14.00\" fill=\"#000000\">value = [37, 2, 2]</text>\n",
       "<text text-anchor=\"start\" x=\"291\" y=\"-111.8\" font-family=\"Helvetica,sans-Serif\" font-size=\"14.00\" fill=\"#000000\">class = class_0</text>\n",
       "</g>\n",
       "<!-- 0&#45;&gt;4 -->\n",
       "<g id=\"edge4\" class=\"edge\">\n",
       "<title>0&#45;&gt;4</title>\n",
       "<path fill=\"none\" stroke=\"#000000\" d=\"M292.1821,-222.8796C297.4133,-214.2335 302.9805,-205.0322 308.3823,-196.1042\"/>\n",
       "<polygon fill=\"#000000\" stroke=\"#000000\" points=\"311.5283,-197.6658 313.7104,-187.2981 305.5392,-194.0421 311.5283,-197.6658\"/>\n",
       "<text text-anchor=\"middle\" x=\"319.684\" y=\"-207.8739\" font-family=\"Helvetica,sans-Serif\" font-size=\"14.00\" fill=\"#000000\">False</text>\n",
       "</g>\n",
       "<!-- 2 -->\n",
       "<g id=\"node3\" class=\"node\">\n",
       "<title>2</title>\n",
       "<path fill=\"#8139e5\" fill-opacity=\"0.933333\" stroke=\"#000000\" d=\"M108,-68C108,-68 12,-68 12,-68 6,-68 0,-62 0,-56 0,-56 0,-12 0,-12 0,-6 6,0 12,0 12,0 108,0 108,0 114,0 120,-6 120,-12 120,-12 120,-56 120,-56 120,-62 114,-68 108,-68\"/>\n",
       "<text text-anchor=\"start\" x=\"23.5\" y=\"-52.8\" font-family=\"Helvetica,sans-Serif\" font-size=\"14.00\" fill=\"#000000\">gini = 0.117</text>\n",
       "<text text-anchor=\"start\" x=\"18\" y=\"-37.8\" font-family=\"Helvetica,sans-Serif\" font-size=\"14.00\" fill=\"#000000\">samples = 32</text>\n",
       "<text text-anchor=\"start\" x=\"8\" y=\"-22.8\" font-family=\"Helvetica,sans-Serif\" font-size=\"14.00\" fill=\"#000000\">value = [0, 2, 30]</text>\n",
       "<text text-anchor=\"start\" x=\"12\" y=\"-7.8\" font-family=\"Helvetica,sans-Serif\" font-size=\"14.00\" fill=\"#000000\">class = class_2</text>\n",
       "</g>\n",
       "<!-- 1&#45;&gt;2 -->\n",
       "<g id=\"edge2\" class=\"edge\">\n",
       "<title>1&#45;&gt;2</title>\n",
       "<path fill=\"none\" stroke=\"#000000\" d=\"M145.3586,-103.9815C133.7001,-94.4232 121.312,-84.2668 109.6941,-74.7419\"/>\n",
       "<polygon fill=\"#000000\" stroke=\"#000000\" points=\"111.7448,-71.8972 101.7925,-68.2637 107.3067,-77.3105 111.7448,-71.8972\"/>\n",
       "</g>\n",
       "<!-- 3 -->\n",
       "<g id=\"node4\" class=\"node\">\n",
       "<title>3</title>\n",
       "<path fill=\"#39e581\" fill-opacity=\"0.850980\" stroke=\"#000000\" d=\"M246,-68C246,-68 150,-68 150,-68 144,-68 138,-62 138,-56 138,-56 138,-12 138,-12 138,-6 144,0 150,0 150,0 246,0 246,0 252,0 258,-6 258,-12 258,-12 258,-56 258,-56 258,-62 252,-68 246,-68\"/>\n",
       "<text text-anchor=\"start\" x=\"161.5\" y=\"-52.8\" font-family=\"Helvetica,sans-Serif\" font-size=\"14.00\" fill=\"#000000\">gini = 0.246</text>\n",
       "<text text-anchor=\"start\" x=\"156\" y=\"-37.8\" font-family=\"Helvetica,sans-Serif\" font-size=\"14.00\" fill=\"#000000\">samples = 51</text>\n",
       "<text text-anchor=\"start\" x=\"146\" y=\"-22.8\" font-family=\"Helvetica,sans-Serif\" font-size=\"14.00\" fill=\"#000000\">value = [3, 44, 4]</text>\n",
       "<text text-anchor=\"start\" x=\"150\" y=\"-7.8\" font-family=\"Helvetica,sans-Serif\" font-size=\"14.00\" fill=\"#000000\">class = class_1</text>\n",
       "</g>\n",
       "<!-- 1&#45;&gt;3 -->\n",
       "<g id=\"edge3\" class=\"edge\">\n",
       "<title>1&#45;&gt;3</title>\n",
       "<path fill=\"none\" stroke=\"#000000\" d=\"M196.7447,-103.9815C196.8947,-95.618 197.053,-86.7965 197.2046,-78.3409\"/>\n",
       "<polygon fill=\"#000000\" stroke=\"#000000\" points=\"200.7054,-78.3249 197.3854,-68.2637 193.7065,-78.1993 200.7054,-78.3249\"/>\n",
       "</g>\n",
       "<!-- 5 -->\n",
       "<g id=\"node6\" class=\"node\">\n",
       "<title>5</title>\n",
       "<path fill=\"transparent\" stroke=\"#000000\" d=\"M381.5,-68C381.5,-68 292.5,-68 292.5,-68 286.5,-68 280.5,-62 280.5,-56 280.5,-56 280.5,-12 280.5,-12 280.5,-6 286.5,0 292.5,0 292.5,0 381.5,0 381.5,0 387.5,0 393.5,-6 393.5,-12 393.5,-12 393.5,-56 393.5,-56 393.5,-62 387.5,-68 381.5,-68\"/>\n",
       "<text text-anchor=\"start\" x=\"308\" y=\"-52.8\" font-family=\"Helvetica,sans-Serif\" font-size=\"14.00\" fill=\"#000000\">gini = 0.5</text>\n",
       "<text text-anchor=\"start\" x=\"299\" y=\"-37.8\" font-family=\"Helvetica,sans-Serif\" font-size=\"14.00\" fill=\"#000000\">samples = 4</text>\n",
       "<text text-anchor=\"start\" x=\"288.5\" y=\"-22.8\" font-family=\"Helvetica,sans-Serif\" font-size=\"14.00\" fill=\"#000000\">value = [0, 2, 2]</text>\n",
       "<text text-anchor=\"start\" x=\"289\" y=\"-7.8\" font-family=\"Helvetica,sans-Serif\" font-size=\"14.00\" fill=\"#000000\">class = class_1</text>\n",
       "</g>\n",
       "<!-- 4&#45;&gt;5 -->\n",
       "<g id=\"edge5\" class=\"edge\">\n",
       "<title>4&#45;&gt;5</title>\n",
       "<path fill=\"none\" stroke=\"#000000\" d=\"M338.2553,-103.9815C338.1053,-95.618 337.947,-86.7965 337.7954,-78.3409\"/>\n",
       "<polygon fill=\"#000000\" stroke=\"#000000\" points=\"341.2935,-78.1993 337.6146,-68.2637 334.2946,-78.3249 341.2935,-78.1993\"/>\n",
       "</g>\n",
       "<!-- 6 -->\n",
       "<g id=\"node7\" class=\"node\">\n",
       "<title>6</title>\n",
       "<path fill=\"#e58139\" stroke=\"#000000\" d=\"M520,-68C520,-68 424,-68 424,-68 418,-68 412,-62 412,-56 412,-56 412,-12 412,-12 412,-6 418,0 424,0 424,0 520,0 520,0 526,0 532,-6 532,-12 532,-12 532,-56 532,-56 532,-62 526,-68 520,-68\"/>\n",
       "<text text-anchor=\"start\" x=\"443\" y=\"-52.8\" font-family=\"Helvetica,sans-Serif\" font-size=\"14.00\" fill=\"#000000\">gini = 0.0</text>\n",
       "<text text-anchor=\"start\" x=\"430\" y=\"-37.8\" font-family=\"Helvetica,sans-Serif\" font-size=\"14.00\" fill=\"#000000\">samples = 37</text>\n",
       "<text text-anchor=\"start\" x=\"420\" y=\"-22.8\" font-family=\"Helvetica,sans-Serif\" font-size=\"14.00\" fill=\"#000000\">value = [37, 0, 0]</text>\n",
       "<text text-anchor=\"start\" x=\"424\" y=\"-7.8\" font-family=\"Helvetica,sans-Serif\" font-size=\"14.00\" fill=\"#000000\">class = class_0</text>\n",
       "</g>\n",
       "<!-- 4&#45;&gt;6 -->\n",
       "<g id=\"edge6\" class=\"edge\">\n",
       "<title>4&#45;&gt;6</title>\n",
       "<path fill=\"none\" stroke=\"#000000\" d=\"M388.5243,-103.9815C399.9257,-94.4232 412.0405,-84.2668 423.4021,-74.7419\"/>\n",
       "<polygon fill=\"#000000\" stroke=\"#000000\" points=\"425.7147,-77.3704 431.1294,-68.2637 421.2175,-72.006 425.7147,-77.3704\"/>\n",
       "</g>\n",
       "</g>\n",
       "</svg>\n"
      ],
      "text/plain": [
       "<graphviz.files.Source at 0x1a14138790>"
      ]
     },
     "execution_count": 38,
     "metadata": {},
     "output_type": "execute_result"
    }
   ],
   "source": [
    "dt = tree.DecisionTreeClassifier(max_depth=2)\n",
    "x_train, x_test, y_train, y_test = train_test_split(wine.data, wine.target, test_size=0.3)\n",
    "dt.fit(x_train, y_train)\n",
    "\n",
    "import graphviz \n",
    "dot_data = tree.export_graphviz(dt, out_file=None, \n",
    "                         feature_names=wine.feature_names,  \n",
    "                         class_names=wine.target_names,  \n",
    "                         filled=True, rounded=True,  \n",
    "                         special_characters=True)  \n",
    "graph = graphviz.Source(dot_data)  \n",
    "graph "
   ]
  },
  {
   "cell_type": "markdown",
   "metadata": {},
   "source": [
    "How to read this tree? \n",
    "* top entry in each box gives the condition being tested.  \n",
    "* gini: is a measure of impurity; how often an randomly chosen element from the set would be incorrectly labeled, \n",
    "* samples: number of samples in each leaf\n",
    "* value: (???) presumably, some values in the data?  I'm not sure.\n",
    "* class: the targeted output\n",
    "\n",
    "## How is a tree built?\n",
    "\n",
    "The general approach is to split a set of samples into subsets based on some attributes, and repeating the process in a recursive manner.  The simplest algorithm is a top-down, greedy search through the space of possible decision trees.\n",
    "First, one computes the *entropy* for the data set, a measure of uncertainty in the data set, \n",
    "$$ H(S) = \\sum_{c \\in C} -p(c) \\log_k{p(c)}.$$\n",
    "Here,\n",
    "* $S$ is the current sample set for which entropy is being calculated\n",
    "* $C$ is the set of classes in $S$\n",
    "* $k = |C|$ : $k$ is the number of classes\n",
    "* $p(c)$ is the probability of encountering element in class $c$ in the set $S$.\n",
    "\n",
    "For a binary classification problem:\n",
    "* an entropy will be zero if all samples are either true, or if all samples are false.\n",
    "* if half the samples are true, half the samples are false, then the entropy will be one (i.e. high).\n",
    "\n",
    "The greedy algorithm proceeds as follows:\n",
    "* compute entropy of parent\n",
    "* for each feature/attribute\n",
    "    * compute information gain:  Entropy(parent) - Weighted Sum of Entropy(Children).\n",
    "* pick feature that gives largest information gain.\n",
    "\n",
    "This is then repeated recursively for each leaf in the tree.\n",
    "\n",
    "Alternatively, Scikit-learn uses a hierarchical approach known as CART (Classification and Regression Trees). The main difference, is the Gini Index is used as the cost function to evaluate splits in the data set.  It is beyond the scope of this course to explore CART and it's variants.  Interested readers should look at:\n",
    "\n",
    "http://www.uta.edu/faculty/rcli/Teaching/math6310/materials/Ten.pdf#page=192\n"
   ]
  },
  {
   "cell_type": "markdown",
   "metadata": {},
   "source": [
    "# Learning Curves\n",
    "\n",
    "Denote the training error (i.e. in-sample error) as $E_{in}$, i.e., the error in the model measured over all data in the *training* set.   Denote the testing error (i.e. out-of sample error / generalization error) as $E_{out}$, i.e., the error expected on unseen data.  Some intuitive statements:\n",
    "* $E_{out} \\ge E_{in}$\n",
    "* want $E_{in} \\to 0$\n",
    "* want $E_{out} \\approx E_{n}$, i.e.,\n",
    "$\\quad  E_{in} \\le E_{out} \\le E_{in} + \\Omega, \\quad \\text{with } \\Omega \\to 0,$ where $\\Omega$ typically depends on the number of samples $N$, complexity of the model, ...\n",
    "\n",
    "Learning curve: shows relationship between training/test errors as a function of ML problem parameters.  We'll use the Decision Tree classifier which seems to work best for this problem.  Additionally, we will control the maximum depth of the tree, in some sense, controlling the complexity of the ML algorithm."
   ]
  },
  {
   "cell_type": "code",
   "execution_count": 35,
   "metadata": {},
   "outputs": [
    {
     "data": {
      "image/png": "[encoded data removed]",
      "text/plain": [
       "<Figure size 432x288 with 1 Axes>"
      ]
     },
     "metadata": {
      "needs_background": "light"
     },
     "output_type": "display_data"
    }
   ],
   "source": [
    "dt = tree.DecisionTreeClassifier(max_depth=1)\n",
    "\n",
    "Ein = np.zeros((99,40))\n",
    "Eout = np.zeros((99,40))\n",
    "\n",
    "for nratio in xrange(99):\n",
    "\n",
    "    ratio = 1 - (nratio+1)/100.0\n",
    "    for i in xrange(40):\n",
    "        # split the data\n",
    "        x_train, x_test, y_train, y_test = train_test_split(wine.data, wine.target, test_size=ratio)\n",
    "\n",
    "        # train the classifier using the training data\n",
    "        dt.fit(x_train, y_train)\n",
    "\n",
    "        # compute the prediction of the test set using the model\n",
    "        yhat_train = dt.predict(x_train)\n",
    "        yhat_test = dt.predict(x_test)\n",
    "\n",
    "        Ein[nratio][i] = 1 - accuracy_score(yhat_train,y_train)\n",
    "        Eout[nratio][i] = 1 - accuracy_score(yhat_test,y_test)\n",
    "    \n",
    "p1,=plt.plot(np.mean(Ein[:,:].T,axis=0),'pink')\n",
    "p2,=plt.plot(np.mean(Eout[:,:].T,axis=0),'c')\n",
    "fig = plt.gcf()\n",
    "#fig.set_size_inches(12,5)\n",
    "plt.xlabel('Percent of samples used for training')\n",
    "plt.ylabel('Error rate')\n",
    "_ = plt.legend([p1,p2],[\"Training Error, Depth = 1\",\"Test Error, Depth = 1\"])    \n"
   ]
  },
  {
   "cell_type": "markdown",
   "metadata": {},
   "source": [
    "Observations:\n",
    "* ? \n",
    "* ? "
   ]
  },
  {
   "cell_type": "markdown",
   "metadata": {},
   "source": [
    "Lets repeat with a more complicated model (increasing depth of tree permitted)"
   ]
  },
  {
   "cell_type": "code",
   "execution_count": 36,
   "metadata": {},
   "outputs": [
    {
     "data": {
      "image/png": "[encoded data removed]",
      "text/plain": [
       "<Figure size 432x288 with 1 Axes>"
      ]
     },
     "metadata": {
      "needs_background": "light"
     },
     "output_type": "display_data"
    }
   ],
   "source": [
    "dt = tree.DecisionTreeClassifier(max_depth=2)\n",
    "\n",
    "# precomputed from above execution block\n",
    "p1,=plt.plot(np.mean(Ein[:,:].T,axis=0),'pink')\n",
    "p2,=plt.plot(np.mean(Eout[:,:].T,axis=0),'c')\n",
    "\n",
    "Ein = np.zeros((99,40))\n",
    "Eout = np.zeros((99,40))\n",
    "\n",
    "for nratio in xrange(99):\n",
    "\n",
    "    ratio = 1 - (nratio+1)/100.0\n",
    "    for i in xrange(40):\n",
    "        # split the data\n",
    "        x_train, x_test, y_train, y_test = train_test_split(wine.data, wine.target, test_size=ratio)\n",
    "\n",
    "        # train the classifier using the training data\n",
    "        dt.fit(x_train, y_train)\n",
    "\n",
    "        # compute the prediction of the test set using the model\n",
    "        yhat_train = dt.predict(x_train)\n",
    "        yhat_test = dt.predict(x_test)\n",
    "\n",
    "        Ein[nratio][i] = 1 - accuracy_score(yhat_train,y_train)\n",
    "        Eout[nratio][i] = 1 - accuracy_score(yhat_test,y_test)\n",
    "    \n",
    "p3,=plt.plot(np.mean(Ein[:,:].T,axis=0),'red')\n",
    "p4,=plt.plot(np.mean(Eout[:,:].T,axis=0),'blue')\n",
    "fig = plt.gcf()\n",
    "#fig.set_size_inches(12,5)\n",
    "plt.xlabel('Percent of samples used for training')\n",
    "plt.ylabel('Error rate')\n",
    "_ = plt.legend([p1,p2,p3,p4],[\"Training Error, Depth = 1\",\"Test Error, Depth = 1\",\"Training Error, Depth = 2\",\"Test Error, Depth = 2\"])  "
   ]
  },
  {
   "cell_type": "markdown",
   "metadata": {},
   "source": [
    "These graphs are not as instructive as those in your textbook, since we are working with the wine data set, rather than the toy problem generated on page 79.  "
   ]
  }
 ],
 "metadata": {
  "kernelspec": {
   "display_name": "Python 2",
   "language": "python",
   "name": "python2"
  },
  "language_info": {
   "codemirror_mode": {
    "name": "ipython",
    "version": 2
   },
   "file_extension": ".py",
   "mimetype": "text/x-python",
   "name": "python",
   "nbconvert_exporter": "python",
   "pygments_lexer": "ipython2",
   "version": "2.7.15"
  }
 },
 "nbformat": 4,
 "nbformat_minor": 2
}
