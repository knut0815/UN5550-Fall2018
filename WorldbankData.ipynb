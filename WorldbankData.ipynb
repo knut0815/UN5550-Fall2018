{
 "cells": [
  {
   "cell_type": "markdown",
   "metadata": {},
   "source": [
    "Script file for downloading and formatting world population data from the worldbank.org.\n",
    "sourced from https://github.com/datasets"
   ]
  },
  {
   "cell_type": "code",
   "execution_count": 2,
   "metadata": {},
   "outputs": [],
   "source": [
    "import urllib\n",
    "import os\n",
    "import csv\n",
    "import tempfile\n",
    "\n",
    "f = tempfile.NamedTemporaryFile()\n",
    "dest = f.name\n",
    "\n",
    "def download():\n",
    "    source = 'http://api.worldbank.org/countries/all/indicators/SP.POP.TOTL?format=csv'\n",
    "    urllib.urlretrieve(source, dest)\n",
    "\n",
    "def process():\n",
    "    # un-pivot the table\n",
    "    fo = open(dest)\n",
    "    lines = [ row for row in csv.reader(fo) ]\n",
    "    headings = lines[0]\n",
    "    lines = lines[1:]\n",
    "\n",
    "    outheadings = [ 'Country Name', 'Country Code', 'Year', 'Value' ]\n",
    "    outlines = []\n",
    "\n",
    "    for row in lines:\n",
    "        for idx, year in enumerate(headings[2:]):\n",
    "            if row[idx+2]:\n",
    "                # do not convert to float as we end up with scientific notation\n",
    "                value = row[idx+2]\n",
    "                outlines.append(row[:2] + [int(year), value])\n",
    "\n",
    "    writer = csv.writer(open('data/population.csv', 'w'))\n",
    "    writer.writerow(outheadings)\n",
    "    writer.writerows(outlines)\n",
    "\n",
    "download()\n",
    "process()"
   ]
  }
 ],
 "metadata": {
  "kernelspec": {
   "display_name": "Python 2",
   "language": "python",
   "name": "python2"
  },
  "language_info": {
   "codemirror_mode": {
    "name": "ipython",
    "version": 2
   },
   "file_extension": ".py",
   "mimetype": "text/x-python",
   "name": "python",
   "nbconvert_exporter": "python",
   "pygments_lexer": "ipython2",
   "version": "2.7.15"
  }
 },
 "nbformat": 4,
 "nbformat_minor": 2
}
