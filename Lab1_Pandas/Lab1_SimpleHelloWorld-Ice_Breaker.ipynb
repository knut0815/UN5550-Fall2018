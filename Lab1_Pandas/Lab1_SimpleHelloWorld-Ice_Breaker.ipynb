{
 "cells": [
  {
   "cell_type": "markdown",
   "metadata": {},
   "source": [
    "## Lab 1 - Python Basics (Hello World)\n",
    "\n",
    "### Start with the most basic excercise: Output \"Hello World\".\n",
    "Please be aware that from Python 2.5+, the print function/statement is accompanied with the parenthesis: print() \n",
    "\n",
    "ref https://docs.python.org/3/whatsnew/3.0.html\n"
   ]
  },
  {
   "cell_type": "code",
   "execution_count": null,
   "metadata": {},
   "outputs": [],
   "source": [
    "print (\"Hello World, \" + \"I am python program version 2\") \n",
    "\n",
    "# write a code to input the name ('String') to variable \"FName\". try input and/or raw_input function\n",
    "FName = input(\"what is your name?\")               # <-- write/modify code here\n"
   ]
  },
  {
   "cell_type": "code",
   "execution_count": null,
   "metadata": {},
   "outputs": [],
   "source": [
    "# Capitalize each letters of your first name \"FName\" and print\n",
    "\n",
    "\"Hai \"+ FName + \"!\"                               # <-- write/modify code here"
   ]
  },
  {
   "cell_type": "code",
   "execution_count": null,
   "metadata": {
    "collapsed": true
   },
   "outputs": [],
   "source": [
    "input(\"what is 2+2 = \") # input function is useful for integer. but for string type variable, \n",
    "# raw_input is best suited."
   ]
  },
  {
   "cell_type": "markdown",
   "metadata": {},
   "source": [
    "input () parameter \n",
    "\n",
    "ref: https://www.python-course.eu/input.php"
   ]
  },
  {
   "cell_type": "markdown",
   "metadata": {},
   "source": [
    "### Use inbuilt function dir() to the variables (FName) above and print the outcome. \n",
    "ref: https://python-reference.readthedocs.io/en/latest/docs/functions/dir.html?highlight=dir()\n",
    "\n",
    "#### Comment on: How does this inbuilt function \"dir()\" help while coding."
   ]
  },
  {
   "cell_type": "code",
   "execution_count": null,
   "metadata": {
    "collapsed": true
   },
   "outputs": [],
   "source": [
    "dir() # Apply this function to FName i.e., string.         # <-- write/modify code here"
   ]
  },
  {
   "cell_type": "markdown",
   "metadata": {},
   "source": [
    "### Look into the built-in functions in python\n",
    "ref: https://docs.python.org/2/library/functions.html\n",
    "ref: https://docs.python.org/3.5/library/functions.html#\n",
    "\n",
    "try dir(), len(), split() , strip() etc\n"
   ]
  },
  {
   "cell_type": "code",
   "execution_count": null,
   "metadata": {},
   "outputs": [],
   "source": [
    "FName.split(\" \")                                           # <-- write/modify code here\n",
    "\n",
    "\n",
    "print (FName.split(\" \"))"
   ]
  },
  {
   "cell_type": "code",
   "execution_count": null,
   "metadata": {
    "collapsed": true
   },
   "outputs": [],
   "source": [
    "name = 'Data Science'"
   ]
  },
  {
   "cell_type": "markdown",
   "metadata": {},
   "source": [
    "                                                     ** HOW TO: **\n",
    "### COMMENTS - \n",
    "To create a comment line (in line with the code), # (hash) symbol is used, followed by a space. (Short key: Ctrl+/ )\n",
    "[To comment out, remove # or use Ctrl+/ again]\n",
    "\n",
    "Other options are using the triple quotes (\"\"\")or (''') known as backticks, to enclose the complete sentence as a comment.(This needs to be on different line other than the code). Different programming language has different approches for commenting. Please be aware.\n",
    "\n"
   ]
  },
  {
   "cell_type": "code",
   "execution_count": null,
   "metadata": {
    "collapsed": true
   },
   "outputs": [],
   "source": [
    "# This is also a comment"
   ]
  },
  {
   "cell_type": "code",
   "execution_count": null,
   "metadata": {
    "collapsed": true
   },
   "outputs": [],
   "source": [
    "'''This is the way to comment the large sentences\n",
    "This is the way to comment the large sentences\n",
    "This is the way to comment the large sentences'''\n",
    "2+2"
   ]
  },
  {
   "cell_type": "markdown",
   "metadata": {},
   "source": [
    "### Markdown in Jupyter Notebook\n",
    "Markdown option for cells in the jupyter notebook provides a elligent way to display the user about the particular code snippets. For more information and reading, please look into \n",
    "\n",
    "https://jupyter-notebook.readthedocs.io/en/stable/examples/Notebook/Working%20With%20Markdown%20Cells.html\n",
    "\n",
    "https://help.github.com/articles/basic-writing-and-formatting-syntax/\n",
    "\n",
    "#### MARKDOWNS for Headings - \n",
    "\n",
    "1. \" #   H1 \" - Heading 1\n",
    "2. \" ##  H2 \" - Heading 2\n",
    "3. \" ### H3 \" - Heading 3\n",
    "\n",
    "Bold - \" ** text that needs to be bold-highlighted ** \" (Use double asterick **) \n",
    "\n",
    "Itialic - \" * text that needs to be italicized* \" (use single asterick *)\n",
    "\n",
    "There are other syntax available aswell in form of guide, books, forums, code snippets etc. \n"
   ]
  },
  {
   "cell_type": "markdown",
   "metadata": {
    "collapsed": true
   },
   "source": [
    "**Some String Operations**"
   ]
  },
  {
   "cell_type": "code",
   "execution_count": null,
   "metadata": {
    "collapsed": true
   },
   "outputs": [],
   "source": [
    "this_is_my_string = \"HelloBatch2018\"\n",
    "\n",
    "print(this_is_my_string.find(\"2018\"))"
   ]
  },
  {
   "cell_type": "code",
   "execution_count": null,
   "metadata": {
    "collapsed": true
   },
   "outputs": [],
   "source": [
    "print(this_is_my_string[-4:])"
   ]
  },
  {
   "cell_type": "code",
   "execution_count": null,
   "metadata": {
    "collapsed": true
   },
   "outputs": [],
   "source": [
    "this_is_my_string.upper()"
   ]
  },
  {
   "cell_type": "code",
   "execution_count": null,
   "metadata": {
    "collapsed": true
   },
   "outputs": [],
   "source": [
    "this_is_my_string.lower()"
   ]
  },
  {
   "cell_type": "code",
   "execution_count": null,
   "metadata": {
    "collapsed": true
   },
   "outputs": [],
   "source": [
    "this_is_my_string + ' & ' + 'FutureDatascientist'"
   ]
  },
  {
   "cell_type": "markdown",
   "metadata": {},
   "source": [
    "Some handy short keys:\n",
    "* Ctrl + Enter = runs the highlighted cell.\n",
    "* Alt + Enter = runs the highlighted cell + adds cell below\n"
   ]
  },
  {
   "cell_type": "markdown",
   "metadata": {
    "collapsed": true
   },
   "source": [
    "#### Refresh your python skills using simple practice programs : \n",
    "https://wiki.python.org/moin/SimplePrograms"
   ]
  }
 ],
 "metadata": {
  "kernelspec": {
   "display_name": "Python 2",
   "language": "python",
   "name": "python2"
  },
  "language_info": {
   "codemirror_mode": {
    "name": "ipython",
    "version": 2
   },
   "file_extension": ".py",
   "mimetype": "text/x-python",
   "name": "python",
   "nbconvert_exporter": "python",
   "pygments_lexer": "ipython2",
   "version": "2.7.5"
  }
 },
 "nbformat": 4,
 "nbformat_minor": 2
}
