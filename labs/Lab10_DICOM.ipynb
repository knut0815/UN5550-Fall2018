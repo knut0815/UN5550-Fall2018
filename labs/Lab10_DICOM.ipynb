{
 "cells": [
  {
   "cell_type": "markdown",
   "metadata": {},
   "source": [
    "# DICOM - Draft\n",
    "\n",
    "DICOM (Digital Imaging and Communications in Medicine) is a messaging standard used for data management of medical data and associated metadata.  It has the ability to integrate data from various medical imaging devices directly over TCP or UDP, or other more secure layers.  DICOM is a comprehensive specification of the data content, structure of the data, how the data is encoded, and relevant communication protocols.\n",
    "\n",
    "Module learning objectives:\n",
    "- DICOM data format \n",
    "- Displaying Images from the DICOM data format\n",
    "- Manipulating and Normalizing Data"
   ]
  },
  {
   "cell_type": "markdown",
   "metadata": {},
   "source": [
    "# 1. DICOM Data Format\n",
    "\n",
    "The Digital Imaging and Communications in Medicine, the DICOM is a Standard originally published as NEMA standard for Digital Imaging and Communications in Medicine. The standard specifically deals with nonproprietary data interchange protocols, digital image formats, and file structure needed for biomedical images and image-related information sharing. \n",
    "\n",
    "Interesting blog about the DICOM standard can be found in this link: http://dicomiseasy.blogspot.com/2011/10/introduction-to-dicom-chapter-1.html\n",
    "\n",
    "From programmer point of view, the core elements of dicom or in pydicom environment are\n",
    "1. Dataset \n",
    "2. Data Element  \n",
    "3. Tag\n",
    "4. Sequence \n",
    "\n",
    "More resources on Dicom standard and description can be found in [4]"
   ]
  },
  {
   "cell_type": "markdown",
   "metadata": {},
   "source": [
    "## DICOM data files\n",
    "\n",
    "Some of the sample DICOM datasets are listed below \n",
    "* Osirix Datasets (http://www.osirix-viewer.com/resources/dicom-image-library/)   [Needs membership]\n",
    "* Visible Human Datasets (https://mri.radiology.uiowa.edu/visible_human_datasets.html)   [Free Access to sample lib]\n",
    "* Zubal Phantom (http://noodle.med.yale.edu/zubal/info.htm) [interesting]"
   ]
  },
  {
   "cell_type": "markdown",
   "metadata": {},
   "source": [
    "## pydicom \n",
    "\n",
    "https://pypi.org/project/pydicom/\n",
    "* ver: pydicom 1.2.0\n",
    "* To Install: pip install pydicom\n",
    "* very powerful tool in python to render DICOM images/files\n",
    "* example file illustrated in pydicom"
   ]
  },
  {
   "cell_type": "code",
   "execution_count": null,
   "metadata": {},
   "outputs": [],
   "source": [
    "! pip install --user pydicom \n",
    "! pip install --user opencv-python\n",
    "! pip install --user scikit-image\n",
    "! pip install --user ipywidgets"
   ]
  },
  {
   "cell_type": "code",
   "execution_count": null,
   "metadata": {
    "collapsed": true
   },
   "outputs": [],
   "source": [
    "# ! pip install dicom"
   ]
  },
  {
   "cell_type": "markdown",
   "metadata": {},
   "source": [
    "## scikit-image \n",
    "For useful image-processing library and routines"
   ]
  },
  {
   "cell_type": "code",
   "execution_count": null,
   "metadata": {},
   "outputs": [],
   "source": [
    "# reading a radiotherapy plan file\n",
    "# import os\n",
    "import numpy as np\n",
    "import pydicom\n",
    "import matplotlib.pyplot as plt\n",
    "from pydicom.data import get_testdata_files\n",
    "from skimage import data, io, filters"
   ]
  },
  {
   "cell_type": "markdown",
   "metadata": {},
   "source": [
    "### Reading dicom file\n",
    "\n",
    "* Similar to the Toy dataset, Pydicom has an inbuilt datasets.  we need to get_testdata_files() is used to load.\n",
    "* .dcm file can be loaded using inbuilt reader - dcmread('filename')"
   ]
  },
  {
   "cell_type": "code",
   "execution_count": null,
   "metadata": {},
   "outputs": [],
   "source": [
    "# using standard dataset\n",
    "filename = get_testdata_files(\"rtplan.dcm\")[0]\n",
    "ds = pydicom.dcmread(filename)  # plan dataset\n",
    "\n",
    "# Looking into the dicom file structure and type\n",
    "print (type(ds), '\\n\\n')\n",
    "\n",
    "# dicom data structure\n",
    "print (ds)"
   ]
  },
  {
   "cell_type": "markdown",
   "metadata": {},
   "source": [
    "### Reading .dcm file extensions (i.e., DICOM file/datasets) "
   ]
  },
  {
   "cell_type": "code",
   "execution_count": null,
   "metadata": {},
   "outputs": [],
   "source": [
    "ds = pydicom.dcmread(\"Data/vhf.1071.dcm\")  # plan dataset\n",
    "print(ds)"
   ]
  },
  {
   "cell_type": "code",
   "execution_count": null,
   "metadata": {},
   "outputs": [],
   "source": [
    "ds.dir()"
   ]
  },
  {
   "cell_type": "code",
   "execution_count": null,
   "metadata": {},
   "outputs": [],
   "source": [
    "print(ds.dir(), '\\n')  "
   ]
  },
  {
   "cell_type": "code",
   "execution_count": null,
   "metadata": {},
   "outputs": [],
   "source": [
    "ds.dir(\"Patient\")"
   ]
  },
  {
   "cell_type": "code",
   "execution_count": null,
   "metadata": {},
   "outputs": [],
   "source": [
    "ds.PatientPosition"
   ]
  },
  {
   "cell_type": "code",
   "execution_count": null,
   "metadata": {},
   "outputs": [],
   "source": [
    "ds.PatientBirthTime"
   ]
  },
  {
   "cell_type": "markdown",
   "metadata": {},
   "source": [
    "### Modifying individual attribute"
   ]
  },
  {
   "cell_type": "code",
   "execution_count": null,
   "metadata": {},
   "outputs": [],
   "source": [
    "ds.PatientPosition = \"HFP\"\n",
    "ds.PatientPosition"
   ]
  },
  {
   "cell_type": "markdown",
   "metadata": {},
   "source": [
    "### Save .dcm file using save_as"
   ]
  },
  {
   "cell_type": "code",
   "execution_count": null,
   "metadata": {
    "collapsed": true
   },
   "outputs": [],
   "source": [
    "ds.save_as(\"MyCTScan.dcm\")"
   ]
  },
  {
   "cell_type": "markdown",
   "metadata": {},
   "source": [
    "## 2. Displaying Images from the DICOM data format"
   ]
  },
  {
   "cell_type": "markdown",
   "metadata": {},
   "source": [
    "### __An example to view the test dataset in pydicom with matplot lib __ https://pydicom.github.io/pydicom/dev/viewing_images.html\n",
    "\n",
    "### Dicom dataset file can be downloaded from https://mri.radiology.uiowa.edu/visible_human_datasets.html\n",
    "\n",
    "###  Refer to the imshow in the dicom link provided above."
   ]
  },
  {
   "cell_type": "code",
   "execution_count": null,
   "metadata": {
    "collapsed": true
   },
   "outputs": [],
   "source": [
    "import matplotlib.pyplot as plt\n",
    "%matplotlib inline\n",
    "import pydicom \n",
    "from pydicom.data import get_testdata_files"
   ]
  },
  {
   "cell_type": "code",
   "execution_count": null,
   "metadata": {
    "collapsed": true
   },
   "outputs": [],
   "source": [
    "filename = get_testdata_files(\"CT_small.dcm\")[0]\n",
    "ds_test = pydicom.dcmread(filename)"
   ]
  },
  {
   "cell_type": "code",
   "execution_count": null,
   "metadata": {},
   "outputs": [],
   "source": [
    "print(ds_test)"
   ]
  },
  {
   "cell_type": "code",
   "execution_count": null,
   "metadata": {},
   "outputs": [],
   "source": [
    "ds_test.dir('Patient')"
   ]
  },
  {
   "cell_type": "code",
   "execution_count": null,
   "metadata": {},
   "outputs": [],
   "source": [
    "ds_test.PatientName"
   ]
  },
  {
   "cell_type": "code",
   "execution_count": null,
   "metadata": {},
   "outputs": [],
   "source": [
    "ds_test.PatientSex"
   ]
  },
  {
   "cell_type": "code",
   "execution_count": null,
   "metadata": {},
   "outputs": [],
   "source": [
    "ds_test.PatientAge"
   ]
  },
  {
   "cell_type": "code",
   "execution_count": null,
   "metadata": {},
   "outputs": [],
   "source": [
    "ds_test.dir('Manufacturer')"
   ]
  },
  {
   "cell_type": "code",
   "execution_count": null,
   "metadata": {},
   "outputs": [],
   "source": [
    "ds_test.ManufacturerModelName"
   ]
  },
  {
   "cell_type": "markdown",
   "metadata": {},
   "source": [
    "## Working with Pixel data in dicom files"
   ]
  },
  {
   "cell_type": "markdown",
   "metadata": {},
   "source": [
    "### Pixel array \n",
    "* We can display the dicom image using pixel_array\n",
    "* In order to work on the image, the compressed and uncompressed data might need to be accessed and modified. Pixel_array provides a much easier access to the pixel data. \n",
    "* The modified data now needs to be saved, where in the previous function comes into picture/"
   ]
  },
  {
   "cell_type": "markdown",
   "metadata": {},
   "source": [
    "### for imaging lets try with real .dcm file from reference [8]\n",
    "#### vhf.1071.dcm is dicom file, female, head scan"
   ]
  },
  {
   "cell_type": "code",
   "execution_count": null,
   "metadata": {
    "collapsed": true
   },
   "outputs": [],
   "source": [
    "ds = pydicom.dcmread(\"Data/vhf.1071.dcm\")"
   ]
  },
  {
   "cell_type": "code",
   "execution_count": null,
   "metadata": {},
   "outputs": [],
   "source": [
    "ds.pixel_array"
   ]
  },
  {
   "cell_type": "code",
   "execution_count": null,
   "metadata": {},
   "outputs": [],
   "source": [
    "ds.pixel_array.shape"
   ]
  },
  {
   "cell_type": "code",
   "execution_count": null,
   "metadata": {},
   "outputs": [],
   "source": [
    "plt.figure(figsize = (8,8), dpi=100) \n",
    "plt.imshow(ds.pixel_array, cmap=plt.cm.gray) "
   ]
  },
  {
   "cell_type": "markdown",
   "metadata": {},
   "source": [
    "Note: cmap=plt.cm.gray provides a detailed and more serious look into the scan than without it as shown below."
   ]
  },
  {
   "cell_type": "code",
   "execution_count": null,
   "metadata": {},
   "outputs": [],
   "source": [
    "plt.figure(figsize = (8,8), dpi=100 )\n",
    "plt.imshow(ds.pixel_array) "
   ]
  },
  {
   "cell_type": "markdown",
   "metadata": {},
   "source": [
    "### Pixel data \n",
    "Raw bytes of the file can be accessed using *PixelData*"
   ]
  },
  {
   "cell_type": "code",
   "execution_count": null,
   "metadata": {},
   "outputs": [],
   "source": [
    "ds.PixelData "
   ]
  },
  {
   "cell_type": "code",
   "execution_count": null,
   "metadata": {},
   "outputs": [],
   "source": [
    "ds.pixel_array.flat"
   ]
  },
  {
   "cell_type": "code",
   "execution_count": null,
   "metadata": {},
   "outputs": [],
   "source": [
    "plt.hist(ds.pixel_array.flatten(),bins=50)\n",
    "plt.show()\n",
    "print (\"pixel array = \", ds.pixel_array.shape)\n",
    "print(\"minimum value = \", np.amin(ds.pixel_array)) # find minimum pixel value in the image array\n",
    "print(\"maximum value = \", np.amax(ds.pixel_array)) # find maximum pixel value in the image array"
   ]
  },
  {
   "cell_type": "markdown",
   "metadata": {},
   "source": [
    "### Skimage \n"
   ]
  },
  {
   "cell_type": "markdown",
   "metadata": {},
   "source": [
    "### Rescaling and manipulation using skimage \n",
    "http://scikit-image.org/docs/dev/api/skimage.exposure.html#skimage.exposure.histogram"
   ]
  },
  {
   "cell_type": "code",
   "execution_count": null,
   "metadata": {},
   "outputs": [],
   "source": [
    "from skimage import exposure\n",
    "\n",
    "plt.figure(figsize = (6,6), dpi=100)\n",
    "\n",
    "p_lo, p_hi = np.percentile(ds.pixel_array, (40, 99))\n",
    "img_rescale_1 = exposure.rescale_intensity(ds.pixel_array, in_range=(p_lo, p_hi))\n",
    "\n",
    "figure = plt.imshow(img_rescale_1, cmap=plt.cm.gray)"
   ]
  },
  {
   "cell_type": "code",
   "execution_count": null,
   "metadata": {
    "collapsed": true
   },
   "outputs": [],
   "source": [
    "# There is a possibility to make interactive to handle the \n",
    "from ipywidgets import interactive, interact, widgets, Layout, Button, Box\n",
    "from IPython.display import display\n",
    "# turn off annoying pink warnings\n",
    "import warnings\n",
    "warnings.filterwarnings('ignore')"
   ]
  },
  {
   "cell_type": "code",
   "execution_count": null,
   "metadata": {
    "collapsed": true
   },
   "outputs": [],
   "source": [
    "def contrast_stretch(image_name, percentile_lo, percentile_hi):\n",
    "    global img_rescale_interactive, image_name_global\n",
    "    image_name_global = image_name \n",
    "    p_lo, p_hi = np.percentile(eval(image_name), (percentile_lo, percentile_hi))\n",
    "\n",
    "    img_rescale = exposure.rescale_intensity(eval(image_name), in_range=(p_lo, p_hi))\n",
    "\n",
    "    # save optimized image array to global variable so other functions can use it\n",
    "    \n",
    "    img_rescale_interactive = img_rescale\n",
    "    \n",
    "    plt.figure(figsize = (6,6), dpi=100) \n",
    "    plt.imshow(img_rescale, cmap=plt.cm.gray)\n",
    "    \n",
    "    plt.show()"
   ]
  },
  {
   "cell_type": "code",
   "execution_count": null,
   "metadata": {},
   "outputs": [],
   "source": [
    "w = interactive(contrast_stretch, image_name=\"ds.pixel_array\", percentile_lo=(1,100,.5), percentile_hi=(1,100,.5))\n",
    "\n",
    "w"
   ]
  },
  {
   "cell_type": "markdown",
   "metadata": {},
   "source": [
    "### Flipping images \n",
    "- Left to Right"
   ]
  },
  {
   "cell_type": "code",
   "execution_count": null,
   "metadata": {},
   "outputs": [],
   "source": [
    "plt.figure(figsize = (6,6), dpi=100)\n",
    "plt.imshow(np.fliplr(ds.pixel_array), cmap=plt.cm.gray)"
   ]
  },
  {
   "cell_type": "markdown",
   "metadata": {},
   "source": [
    "* Upside down"
   ]
  },
  {
   "cell_type": "code",
   "execution_count": null,
   "metadata": {},
   "outputs": [],
   "source": [
    "plt.figure(figsize = (6,6), dpi=100)\n",
    "plt.imshow(np.flipud(ds.pixel_array), cmap=plt.cm.gray)"
   ]
  },
  {
   "cell_type": "markdown",
   "metadata": {},
   "source": [
    "Other medical Imaging python libraries\n",
    "* __MedPy__\n",
    "* __scikit-image__"
   ]
  },
  {
   "cell_type": "markdown",
   "metadata": {},
   "source": [
    "Note: DICOM standard has gained significant importance with technology and currently there are various DICOM viewer available for public to use. The Android and APP store current hold quite a few viewer.   \n",
    "\n",
    "Online Dicom file viwer is shown below\n",
    "https://www.dicomlibrary.com/meddream/md5/index.html?study=1.2.826.0.1.3680043.8.1055.1.20111103111148288.98361414.79379639"
   ]
  },
  {
   "cell_type": "markdown",
   "metadata": {},
   "source": [
    "## Excercise\n"
   ]
  },
  {
   "cell_type": "markdown",
   "metadata": {},
   "source": [
    "###  <font color='red'> Downloaded dicom file from the link is given in your labs/Data folder. Follow each task below. </font>\n",
    "\n",
    "### https://mri.radiology.uiowa.edu/visible_human_datasets.html\n",
    " \n",
    " * Load two dicom files - vhf.1608.dcm & image-000000.dcm  \n",
    " * Assign to ds5 and ds6\n",
    " * investigate the pixel information\n",
    " * display scan using imshow from matplotlib "
   ]
  },
  {
   "cell_type": "code",
   "execution_count": null,
   "metadata": {
    "collapsed": true
   },
   "outputs": [],
   "source": [
    "# read file vhf.1608.dcm\n",
    "# hint use: dcmread\n",
    "\n",
    "ds5 = \n",
    "print ('ds5 info', .shape) # print shape\n",
    "\n",
    "# knee image-000000.dcm\n",
    "ds6 = \n",
    "print ('ds6 info', )"
   ]
  },
  {
   "cell_type": "code",
   "execution_count": null,
   "metadata": {
    "collapsed": true
   },
   "outputs": [],
   "source": [
    "ds5.pixel_array"
   ]
  },
  {
   "cell_type": "markdown",
   "metadata": {},
   "source": [
    "###  <font color='red'>  Viewing Images from dicom </font>\n",
    "\n",
    "https://pydicom.github.io/pydicom/stable/viewing_images.html"
   ]
  },
  {
   "cell_type": "code",
   "execution_count": null,
   "metadata": {
    "collapsed": true
   },
   "outputs": [],
   "source": [
    "#cmap = plt.cm.gray\n"
   ]
  },
  {
   "cell_type": "code",
   "execution_count": null,
   "metadata": {
    "collapsed": true
   },
   "outputs": [],
   "source": []
  },
  {
   "cell_type": "markdown",
   "metadata": {},
   "source": [
    "###  <font color='red'> Does this dicom file display any of the Patient's information?</font>\n"
   ]
  },
  {
   "cell_type": "code",
   "execution_count": null,
   "metadata": {
    "collapsed": true
   },
   "outputs": [],
   "source": [
    "ds5"
   ]
  },
  {
   "cell_type": "markdown",
   "metadata": {},
   "source": [
    "### If patient name is shared then remove the records or replace with dummy name"
   ]
  },
  {
   "cell_type": "code",
   "execution_count": null,
   "metadata": {
    "collapsed": true
   },
   "outputs": [],
   "source": [
    "ds5."
   ]
  },
  {
   "cell_type": "code",
   "execution_count": null,
   "metadata": {
    "collapsed": true
   },
   "outputs": [],
   "source": [
    "ds5. = # say 'dummy01'"
   ]
  },
  {
   "cell_type": "code",
   "execution_count": null,
   "metadata": {
    "collapsed": true
   },
   "outputs": [],
   "source": [
    "ds5."
   ]
  },
  {
   "cell_type": "markdown",
   "metadata": {},
   "source": [
    "#### Note: The operation we perform to hide the patient sensitive information is simple words known as Anonymized. "
   ]
  },
  {
   "cell_type": "markdown",
   "metadata": {},
   "source": [
    "\n",
    "###  <font color='red'> Use the *contrast_stretch()* function shown above and explore the parameters to get the decent image</font>\n"
   ]
  },
  {
   "cell_type": "code",
   "execution_count": null,
   "metadata": {
    "collapsed": true
   },
   "outputs": [],
   "source": [
    "interactive()\n",
    "\n",
    "display()"
   ]
  },
  {
   "cell_type": "code",
   "execution_count": null,
   "metadata": {
    "collapsed": true
   },
   "outputs": [],
   "source": [
    "interactive()\n",
    "\n",
    "display()"
   ]
  },
  {
   "cell_type": "markdown",
   "metadata": {},
   "source": [
    "###  <font color='red'> Demonstrate the flip function for above </font>"
   ]
  },
  {
   "cell_type": "code",
   "execution_count": null,
   "metadata": {
    "collapsed": true
   },
   "outputs": [],
   "source": []
  },
  {
   "cell_type": "code",
   "execution_count": null,
   "metadata": {
    "collapsed": true
   },
   "outputs": [],
   "source": []
  },
  {
   "cell_type": "markdown",
   "metadata": {},
   "source": [
    "###  <font color='red'>Save to jpeg or png or tif </font>\n",
    "\n",
    "### Use this link for help https://matplotlib.org/api/_as_gen/matplotlib.pyplot.imsave.html\n",
    "\n"
   ]
  },
  {
   "cell_type": "code",
   "execution_count": null,
   "metadata": {
    "collapsed": true
   },
   "outputs": [],
   "source": []
  },
  {
   "cell_type": "markdown",
   "metadata": {},
   "source": [
    "# References & further reading\n",
    "1. https://www.ncbi.nlm.nih.gov/pmc/articles/PMC61235/\n",
    "2. http://uwmsk.org/jupyter/Jupyter_DICOM_toolbox.html\n",
    "3. https://medium.com/@taposhdr/medical-image-analysis-with-deep-learning-i-23d518abf531\n",
    "4. https://www.dicomstandard.org/\n",
    "5. https://pyscience.wordpress.com/2014/09/08/dicom-in-python-importing-medical-image-data-into-numpy-with-pydicom-and-vtk/\n",
    "6. Oleg S. Pianykh, \"Digital Imaging and Communications in Medicine (DICOM): A Practical Introduction and Survival Guide\", Springer 2012. (available to MTU students:: https://link.springer.com/book/10.1007%2F978-3-642-10850-1)\n",
    "7. Oleg S. Pianykh, \"Digital Image Quality in Medicine\", Springer 2014 (available to MTU students:: https://link.springer.com/book/10.1007%2F978-3-319-01760-0)\n",
    "8. https://mri.radiology.uiowa.edu/visible_human_datasets.html\n",
    "\n",
    "Other helpful Resources:\n",
    "- https://www.dicomlibrary.com/\n",
    "- http://dicomiseasy.blogspot.com/\n",
    "\n"
   ]
  }
 ],
 "metadata": {
  "kernelspec": {
   "display_name": "Python 2",
   "language": "python",
   "name": "python2"
  },
  "language_info": {
   "codemirror_mode": {
    "name": "ipython",
    "version": 2
   },
   "file_extension": ".py",
   "mimetype": "text/x-python",
   "name": "python",
   "nbconvert_exporter": "python",
   "pygments_lexer": "ipython2",
   "version": "2.7.5"
  }
 },
 "nbformat": 4,
 "nbformat_minor": 2
}
