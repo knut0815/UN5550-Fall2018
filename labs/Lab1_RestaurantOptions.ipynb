{
 "cells": [
  {
   "cell_type": "markdown",
   "metadata": {},
   "source": [
    "### In this section, we would look into the Python Set, with an example of nearby restuarants in Houghton and Hancock.\n",
    "Note: \n",
    "Some of the observations are \n",
    "1. It is unordered collection of items \n",
    "2. No duplicate items are allowed. (the items might be replaced)\n",
    "3. curly brackets are used to create a set or use set()\n",
    "4. Items are immutable\n",
    "\n",
    "Some of the basic set operations are\n",
    "\n",
    "Union(), intersection(), symmetric_difference()\n"
   ]
  },
  {
   "cell_type": "code",
   "execution_count": 29,
   "metadata": {},
   "outputs": [
    {
     "name": "stdout",
     "output_type": "stream",
     "text": [
      "set(['FusionCafe', 'Ambassador', 'Pizza Hut', 'MUB'])\n",
      "Restaurants close to Campus are: set(['Dominos', 'DinningHalls', 'FusionCafe', 'MUB'])\n"
     ]
    }
   ],
   "source": [
    "# Working with \"set\"\n",
    "rest_discounts = set (['Ambassador','Pizza Hut','MUB','FusionCafe'])\n",
    "print(rest_discounts)\n",
    "\n",
    "outlets_nearCampus = {'Dominos','FusionCafe','MUB','DinningHalls'}\n",
    "print('Restaurants close to Campus are: {}'.format(outlets_nearCampus))\n",
    "\n"
   ]
  },
  {
   "cell_type": "markdown",
   "metadata": {},
   "source": [
    "#### 1. Create a set name called \"rest_pizza\" for the list of restaurants that serves pizza. Let the restuarants that also serve pizza are MUB, Ambassador, Dominos, and PizzaHut."
   ]
  },
  {
   "cell_type": "code",
   "execution_count": 28,
   "metadata": {},
   "outputs": [
    {
     "name": "stdout",
     "output_type": "stream",
     "text": [
      "No. of food outlets for pizza near me 4 \n"
     ]
    }
   ],
   "source": [
    "rest_pizza = ['MUB', 'Ambassador', 'Dominos', 'PizzaHut'] # <-- write/modify code here\n",
    "\n",
    "\n",
    "print(\"No. of food outlets for pizza near me %d \" % (len(rest_pizza)))\n",
    "\n"
   ]
  },
  {
   "cell_type": "markdown",
   "metadata": {},
   "source": [
    "#### 2. Forgot to add PizzaStudio in the earlier set. Please add it. "
   ]
  },
  {
   "cell_type": "code",
   "execution_count": null,
   "metadata": {
    "collapsed": true
   },
   "outputs": [],
   "source": [
    "                               # <-- write/modify code here\n",
    "\n",
    "# add PizzaStudio into set --> rest_pizza\n",
    "\n",
    "\n",
    "print(rest_pizza)\n",
    "\n",
    "\n",
    "'''Something is missing in the below code, what is it?'''\n",
    "print('Now, the total no. of food outlets for pizza near me: {}'.format(rest_pizza)) # <-- write/modify code here"
   ]
  },
  {
   "cell_type": "markdown",
   "metadata": {},
   "source": [
    "** 3. Creating a set of options for having lunch-outs with the group. The priority includes near campus and food outlets that provide discounts **\n",
    "python set operations - union(), intersections(),  difference(), symmetric difference().\n",
    "\n",
    "Explore other modules: remove(), discard(), clear(), pop() and etc., "
   ]
  },
  {
   "cell_type": "code",
   "execution_count": null,
   "metadata": {
    "collapsed": true
   },
   "outputs": [],
   "source": [
    "# union ()\n",
    "print(outlets_nearCampus)\n",
    "print(rest_discounts)\n",
    "\n",
    "# Using union operator, find the outlets that are near campus and also provide student discount\n",
    "LunchOption = [] # <-- write/modify code here\n",
    "\n",
    "print(LunchOption) \n",
    "# Observe that there is no order in the set and the duplicates are avoided\n",
    "\n",
    "\n",
    "# Try to include another factor for deciding along with food outlets near campus, restaurant discounts and \n",
    "# those which has speciality pizzas.\n",
    "\n",
    "LunchOptionPizza = [] # <-- write/modify code here\n",
    "print(LunchOptionPizza) \n",
    "\n",
    "# Pizza Hut is repeated in the set. the difference between the two is the space between.\n"
   ]
  },
  {
   "cell_type": "markdown",
   "metadata": {},
   "source": [
    "** 4. Inorder to remove the extra item in the set. we can use remove() or discard(). Both are different module, check which is best suited.**"
   ]
  },
  {
   "cell_type": "code",
   "execution_count": null,
   "metadata": {
    "collapsed": true
   },
   "outputs": [],
   "source": [
    "LunchOptionPizza.remove('Pizza Hut')  # want to remove this piece of code ? # <-- write/modify code here\n",
    "LunchOptionPizza.remove('Pizza Hut')  # want to remove this piece of code ? # <-- write/modify code here\n",
    "\n",
    "LunchOptionPizza.discard('Pizza Hut')  # want to remove this piece of code ? # <-- write/modify code here\n",
    "LunchOptionPizza.discard('Pizza Hut')  # want to remove this piece of code ? # <-- write/modify code here\n",
    "\n",
    "''' You would get an error if remove() function was twice. Why? hint in the error msg'''\n",
    "\n",
    "# Hence, ______________ function in this case is best suited.  # <-- write/modify code here\n",
    "\n",
    "print(LunchOptionPizza)"
   ]
  },
  {
   "cell_type": "markdown",
   "metadata": {},
   "source": [
    "** 5. Use intersection operator options on student discounts (rest_discounts) and those outlets that are near campus (outlets_nearCampus). What do they represent **"
   ]
  },
  {
   "cell_type": "code",
   "execution_count": null,
   "metadata": {
    "collapsed": true
   },
   "outputs": [],
   "source": [
    "outlets_nearCampus\n",
    "rest_discounts\n",
    "print() # <-- write/modify code here\n"
   ]
  },
  {
   "cell_type": "markdown",
   "metadata": {},
   "source": [
    "** 6. It's late-lunch and done with today's work. Craving for my specialities that are not available at outlets near campus. What are all the options that are away-from-campus and still provide student discounts? **"
   ]
  },
  {
   "cell_type": "code",
   "execution_count": null,
   "metadata": {
    "collapsed": true
   },
   "outputs": [],
   "source": [
    "print(rest_discounts)\n",
    "print(outlets_nearCampus)\n",
    "\n",
    "\n",
    "# <-- write/modify code here\n",
    "# You have to take the difference between the set. which is correct function here - Intersection or the difference??\n",
    "print(rest_discounts, outlets_nearCampus)  # <-- write/modify code here\n",
    "print(rest_discounts, outlets_nearCampus)     # <-- write/modify code here\n",
    "\n",
    "\n",
    "\n"
   ]
  },
  {
   "cell_type": "markdown",
   "metadata": {},
   "source": [
    "Look into terminologies such as mutable and immutable, tuples, frozen set, dictionary, key and value. Would be important to get used to the attributes of set, list, dict and other data type."
   ]
  },
  {
   "cell_type": "markdown",
   "metadata": {},
   "source": [
    "## Please look into Dictionary "
   ]
  },
  {
   "cell_type": "code",
   "execution_count": null,
   "metadata": {
    "collapsed": true
   },
   "outputs": [],
   "source": [
    "# Dictionary is similar to the structure of address book or the telephone directory. This structures are called mapping and \n",
    "# and dictionary is one of the built-in mapping available in python. Key and Values are important terminology in here.\n",
    "# there are various way to create the dictionary\n",
    "a={} # Empty curl braces creates empty dictionary\n",
    "print(type(a))\n",
    "\n",
    "# CAUTION: Curly braces with data as shown below is not. Use type() to know the variable type.\n",
    "b={1,2,3}\n",
    "print(type(b))\n",
    "\n",
    "AddressBook = {'Ben': 49931, \n",
    "               'Neelima': 'Daniell Heights', \n",
    "                'Tim': 'Off campus',\n",
    "              'Cook': 'Online'}\n",
    "print(AddressBook)"
   ]
  },
  {
   "cell_type": "code",
   "execution_count": null,
   "metadata": {
    "collapsed": true
   },
   "outputs": [],
   "source": []
  }
 ],
 "metadata": {
  "kernelspec": {
   "display_name": "Python 2",
   "language": "python",
   "name": "python2"
  },
  "language_info": {
   "codemirror_mode": {
    "name": "ipython",
    "version": 2
   },
   "file_extension": ".py",
   "mimetype": "text/x-python",
   "name": "python",
   "nbconvert_exporter": "python",
   "pygments_lexer": "ipython2",
   "version": "2.7.5"
  }
 },
 "nbformat": 4,
 "nbformat_minor": 2
}
